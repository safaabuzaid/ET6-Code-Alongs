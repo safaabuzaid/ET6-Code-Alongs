{
  "nbformat": 4,
  "nbformat_minor": 0,
  "metadata": {
    "colab": {
      "provenance": [],
      "include_colab_link": true
    },
    "kernelspec": {
      "name": "python3",
      "display_name": "Python 3"
    },
    "language_info": {
      "name": "python"
    }
  },
  "cells": [
    {
      "cell_type": "markdown",
      "metadata": {
        "id": "view-in-github",
        "colab_type": "text"
      },
      "source": [
        "<a href=\"https://colab.research.google.com/github/safaabuzaid/ET6-Code-Alongs/blob/main/numpay.ipynb\" target=\"_parent\"><img src=\"https://colab.research.google.com/assets/colab-badge.svg\" alt=\"Open In Colab\"/></a>"
      ]
    },
    {
      "cell_type": "code",
      "execution_count": null,
      "metadata": {
        "colab": {
          "base_uri": "https://localhost:8080/"
        },
        "id": "sMbIeXrEzC0E",
        "outputId": "6c8175cd-ef0a-416b-9f23-53d459bd1b24"
      },
      "outputs": [
        {
          "output_type": "stream",
          "name": "stdout",
          "text": [
            "NumPy version: 2.0.2\n"
          ]
        }
      ],
      "source": [
        "# NumPy Introduction: Why We Start Here\n",
        "\n",
        "# Let's begin by importing NumPy\n",
        "import numpy as np\n",
        "\n",
        "print(\"NumPy version:\", np.__version__)\n"
      ]
    },
    {
      "cell_type": "markdown",
      "source": [
        "**Why Use NumPy?**\n",
        "NumPy (Numerical Python) is the **core library** for numerical computing in Python.\n",
        "\n",
        "We use it in data science because:\n",
        "- It creates efficient arrays and matrices\n",
        "- It supports fast math operations without loops\n",
        "- It's the foundation for other libraries like pandas, scikit-learn, TensorFlow\n",
        "\n",
        "✅ Even if you mostly use `pandas` or `sklearn`, they are built on top of NumPy!\n"
      ],
      "metadata": {
        "id": "R5FfzwqR0LKm"
      }
    },
    {
      "cell_type": "code",
      "source": [
        "#Python List vs NumPy Array\n",
        "\n",
        "# Python list (slow for math)\n",
        "py_list = [1, 2, 3, 4, 5]\n",
        "print(\"Python list + 10 (manual):\", [x + 10 for x in py_list])\n",
        "\n",
        "# NumPy array (fast, vectorized)\n",
        "np_array = np.array([1, 2, 3, 4, 5])\n",
        "print(\"NumPy array + 10:\", np_array + 10)\n"
      ],
      "metadata": {
        "colab": {
          "base_uri": "https://localhost:8080/"
        },
        "id": "LIHBhOXa0rIu",
        "outputId": "478544df-9684-4826-db6c-3442e9c7b250"
      },
      "execution_count": null,
      "outputs": [
        {
          "output_type": "stream",
          "name": "stdout",
          "text": [
            "Python list + 10 (manual): [11, 12, 13, 14, 15]\n",
            "NumPy array + 10: [11 12 13 14 15]\n"
          ]
        }
      ]
    },
    {
      "cell_type": "code",
      "source": [
        "# Basic Math Functions in NumPy\n",
        "# Let's create a test score array\n",
        "scores = np.array([88, 92, 79, 93, 85, 90])\n",
        "\n",
        "print(\"Mean score:\", np.mean(scores))\n",
        "print(\"Standard deviation:\", np.std(scores))\n",
        "print(\"Maximum score:\", np.max(scores))\n",
        "print(\"Minimum score:\", np.min(scores))\n"
      ],
      "metadata": {
        "colab": {
          "base_uri": "https://localhost:8080/"
        },
        "id": "b2xgrhaG12ae",
        "outputId": "43107ec1-9286-4a75-f8af-655f731cd697"
      },
      "execution_count": null,
      "outputs": [
        {
          "output_type": "stream",
          "name": "stdout",
          "text": [
            "Mean score: 87.83333333333333\n",
            "Standard deviation: 4.740487551109297\n",
            "Maximum score: 93\n",
            "Minimum score: 79\n"
          ]
        }
      ]
    },
    {
      "cell_type": "markdown",
      "source": [
        "# Try It Yourself\n",
        "**Mini Challenge**\n",
        "\n",
        "Create your own NumPy array:\n",
        "- It can be a list of 5–6 numbers (temperatures, ages, scores, etc.)\n",
        "- Try using `np.mean()`, `np.min()`, and `np.max()` to explore it\n",
        "\n",
        "*Extra:* Use `np.sort()` to sort your array\n"
      ],
      "metadata": {
        "id": "aH-Hy4xsI1Iv"
      }
    },
    {
      "cell_type": "markdown",
      "source": [
        "# Summary\n",
        "- NumPy is fast, flexible, and essential in data science workflows.\n",
        "- You'll see NumPy used \"behind the scenes\" in pandas, scikit-learn, and ML models.\n",
        "- Learn it once — use it everywhere.\n"
      ],
      "metadata": {
        "id": "fVd8-O5PJI9f"
      }
    },
    {
      "cell_type": "code",
      "source": [],
      "metadata": {
        "id": "ICvbUgFSI89q"
      },
      "execution_count": null,
      "outputs": []
    }
  ]
}